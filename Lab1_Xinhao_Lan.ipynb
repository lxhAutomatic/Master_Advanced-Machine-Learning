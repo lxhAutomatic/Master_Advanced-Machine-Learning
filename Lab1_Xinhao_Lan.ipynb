{
 "cells": [
  {
   "cell_type": "markdown",
   "metadata": {},
   "source": [
    "# Advanced Machine Learning - programming assignment 1\n",
    "\n",
    "*Due: Friday December 3rd*"
   ]
  },
  {
   "cell_type": "markdown",
   "metadata": {},
   "source": [
    "**Please fill in:**\n",
    "* Xinhao Lan (1082620)\n",
    "* Huaixi Tang (2631695)"
   ]
  },
  {
   "cell_type": "markdown",
   "metadata": {},
   "source": [
    "### Further instructions:\n",
    "* Make sure your code is properly commented.\n",
    "* Submit your code in Blackboard using **one** of your accounts; we will put the grade in Blackboard for the other team member as well."
   ]
  },
  {
   "cell_type": "markdown",
   "metadata": {},
   "source": [
    "## Multi-armed Bandits\n",
    "\n",
    "In this programming assignment, we will look at how we can solve a k-armed bandit problem as discussed in the lecture. Expect for winning at the slot machines, you are expect to better understand the tradeoff between exploration and exploiation. \n",
    "\n",
    "Here are the objectives of this assignment:\n",
    "1.   Get familier with the Open-AI gym environment,\n",
    "2.   Implement your own k-armed bandit environment based on the gym framework,\n",
    "3.   Use an epsilon-greedy algorithm to find the optimal action for this k-armed bandit problem,\n",
    "4.   Play with the parameter epsilon and identify a reasonable setting for balancing exploration and exploiation. \n",
    "    "
   ]
  },
  {
   "cell_type": "markdown",
   "metadata": {
    "id": "soq1skOjrr6z"
   },
   "source": [
    "### 1. Let's start with the OpenAI gym\n",
    "\n",
    "Gym (https://gym.openai.com/) is a wide-used toolkit for developing and comparing reinforcement learning algorithms. \n",
    "\n",
    "1. Gym makes no assumptions about the structure of your agent, and is compatible with any numerical computation library, such as TensorFlow or Theano. \n",
    "\n",
    "2. The gym library is a collection of test problems — **environments** — that you can use to work out your reinforcement learning algorithms. These environments have a shared interface, allowing you to write general algorithms."
   ]
  },
  {
   "cell_type": "markdown",
   "metadata": {
    "id": "VBwBIZPkZf_g"
   },
   "source": [
    "First, we download & install the gym library. "
   ]
  },
  {
   "cell_type": "code",
   "execution_count": 1,
   "metadata": {},
   "outputs": [
    {
     "name": "stdout",
     "output_type": "stream",
     "text": [
      "Requirement already satisfied: gym in /Users/thx/miniforge3/envs/aml/lib/python3.8/site-packages (0.21.0)\n",
      "Requirement already satisfied: cloudpickle>=1.2.0 in /Users/thx/miniforge3/envs/aml/lib/python3.8/site-packages (from gym) (2.0.0)\n",
      "Requirement already satisfied: numpy>=1.18.0 in /Users/thx/miniforge3/envs/aml/lib/python3.8/site-packages (from gym) (1.21.4)\n"
     ]
    }
   ],
   "source": [
    "!pip install gym"
   ]
  },
  {
   "cell_type": "markdown",
   "metadata": {
    "id": "on5JDYmWaK-w"
   },
   "source": [
    "**Great!** Now let's import the gym class and work on a basic example of gym code.\n"
   ]
  },
  {
   "cell_type": "code",
   "execution_count": 2,
   "metadata": {
    "id": "5hK-jC9ceDuY"
   },
   "outputs": [],
   "source": [
    "import gym"
   ]
  },
  {
   "cell_type": "markdown",
   "metadata": {
    "id": "WLePIoe7VJXS"
   },
   "source": [
    "Like mentioned above, gym's main purpose is to provide a large collection of **environments** that expose a common interface. You can find a listing of those environments below (they are Markov decision process(MDP) enviroments and we will discuss MDP in our lecture), as follows:"
   ]
  },
  {
   "cell_type": "code",
   "execution_count": 3,
   "metadata": {},
   "outputs": [
    {
     "name": "stdout",
     "output_type": "stream",
     "text": [
      "dict_values([EnvSpec(CartPole-v0), EnvSpec(CartPole-v1), EnvSpec(MountainCar-v0), EnvSpec(MountainCarContinuous-v0), EnvSpec(Pendulum-v1), EnvSpec(Acrobot-v1), EnvSpec(LunarLander-v2), EnvSpec(LunarLanderContinuous-v2), EnvSpec(BipedalWalker-v3), EnvSpec(BipedalWalkerHardcore-v3), EnvSpec(CarRacing-v0), EnvSpec(Blackjack-v1), EnvSpec(FrozenLake-v1), EnvSpec(FrozenLake8x8-v1), EnvSpec(CliffWalking-v0), EnvSpec(Taxi-v3), EnvSpec(Reacher-v2), EnvSpec(Pusher-v2), EnvSpec(Thrower-v2), EnvSpec(Striker-v2), EnvSpec(InvertedPendulum-v2), EnvSpec(InvertedDoublePendulum-v2), EnvSpec(HalfCheetah-v2), EnvSpec(HalfCheetah-v3), EnvSpec(Hopper-v2), EnvSpec(Hopper-v3), EnvSpec(Swimmer-v2), EnvSpec(Swimmer-v3), EnvSpec(Walker2d-v2), EnvSpec(Walker2d-v3), EnvSpec(Ant-v2), EnvSpec(Ant-v3), EnvSpec(Humanoid-v2), EnvSpec(Humanoid-v3), EnvSpec(HumanoidStandup-v2), EnvSpec(FetchSlide-v1), EnvSpec(FetchPickAndPlace-v1), EnvSpec(FetchReach-v1), EnvSpec(FetchPush-v1), EnvSpec(HandReach-v0), EnvSpec(HandManipulateBlockRotateZ-v0), EnvSpec(HandManipulateBlockRotateZTouchSensors-v0), EnvSpec(HandManipulateBlockRotateZTouchSensors-v1), EnvSpec(HandManipulateBlockRotateParallel-v0), EnvSpec(HandManipulateBlockRotateParallelTouchSensors-v0), EnvSpec(HandManipulateBlockRotateParallelTouchSensors-v1), EnvSpec(HandManipulateBlockRotateXYZ-v0), EnvSpec(HandManipulateBlockRotateXYZTouchSensors-v0), EnvSpec(HandManipulateBlockRotateXYZTouchSensors-v1), EnvSpec(HandManipulateBlockFull-v0), EnvSpec(HandManipulateBlock-v0), EnvSpec(HandManipulateBlockTouchSensors-v0), EnvSpec(HandManipulateBlockTouchSensors-v1), EnvSpec(HandManipulateEggRotate-v0), EnvSpec(HandManipulateEggRotateTouchSensors-v0), EnvSpec(HandManipulateEggRotateTouchSensors-v1), EnvSpec(HandManipulateEggFull-v0), EnvSpec(HandManipulateEgg-v0), EnvSpec(HandManipulateEggTouchSensors-v0), EnvSpec(HandManipulateEggTouchSensors-v1), EnvSpec(HandManipulatePenRotate-v0), EnvSpec(HandManipulatePenRotateTouchSensors-v0), EnvSpec(HandManipulatePenRotateTouchSensors-v1), EnvSpec(HandManipulatePenFull-v0), EnvSpec(HandManipulatePen-v0), EnvSpec(HandManipulatePenTouchSensors-v0), EnvSpec(HandManipulatePenTouchSensors-v1), EnvSpec(FetchSlideDense-v1), EnvSpec(FetchPickAndPlaceDense-v1), EnvSpec(FetchReachDense-v1), EnvSpec(FetchPushDense-v1), EnvSpec(HandReachDense-v0), EnvSpec(HandManipulateBlockRotateZDense-v0), EnvSpec(HandManipulateBlockRotateZTouchSensorsDense-v0), EnvSpec(HandManipulateBlockRotateZTouchSensorsDense-v1), EnvSpec(HandManipulateBlockRotateParallelDense-v0), EnvSpec(HandManipulateBlockRotateParallelTouchSensorsDense-v0), EnvSpec(HandManipulateBlockRotateParallelTouchSensorsDense-v1), EnvSpec(HandManipulateBlockRotateXYZDense-v0), EnvSpec(HandManipulateBlockRotateXYZTouchSensorsDense-v0), EnvSpec(HandManipulateBlockRotateXYZTouchSensorsDense-v1), EnvSpec(HandManipulateBlockFullDense-v0), EnvSpec(HandManipulateBlockDense-v0), EnvSpec(HandManipulateBlockTouchSensorsDense-v0), EnvSpec(HandManipulateBlockTouchSensorsDense-v1), EnvSpec(HandManipulateEggRotateDense-v0), EnvSpec(HandManipulateEggRotateTouchSensorsDense-v0), EnvSpec(HandManipulateEggRotateTouchSensorsDense-v1), EnvSpec(HandManipulateEggFullDense-v0), EnvSpec(HandManipulateEggDense-v0), EnvSpec(HandManipulateEggTouchSensorsDense-v0), EnvSpec(HandManipulateEggTouchSensorsDense-v1), EnvSpec(HandManipulatePenRotateDense-v0), EnvSpec(HandManipulatePenRotateTouchSensorsDense-v0), EnvSpec(HandManipulatePenRotateTouchSensorsDense-v1), EnvSpec(HandManipulatePenFullDense-v0), EnvSpec(HandManipulatePenDense-v0), EnvSpec(HandManipulatePenTouchSensorsDense-v0), EnvSpec(HandManipulatePenTouchSensorsDense-v1), EnvSpec(CubeCrash-v0), EnvSpec(CubeCrashSparse-v0), EnvSpec(CubeCrashScreenBecomesBlack-v0), EnvSpec(MemorizeDigits-v0)])\n"
     ]
    }
   ],
   "source": [
    "from gym import envs\n",
    "print(envs.registry.all())"
   ]
  },
  {
   "cell_type": "markdown",
   "metadata": {},
   "source": [
    "We are now going to explain how the RL framework of gym works. \n",
    "- An **ENVIRONMENT**, \n",
    "- You also have an **AGENT**,\n",
    "- The agent takes an **ACTION**, in our case, 10 actions are possible to take,\n",
    "- When a single **ACTION** is chosen and fed to our **ENVIRONMENT**, the **ENVIRONMENT** measures how good the action was taken and produces a **REWARD**, which is usually a numeric value.\n",
    "\n",
    "In MDP problems, the **ENVIRONMENT** will also provides an **OBSERVATION**, which represets the state of the **ENVIRONMENT** at the current moment. In the multi-armed bandit problems, there is no **OBSERVATION** (or state). You may understand this better after the lecture about Markov decision process (MDP). \n",
    "\n",
    "Please read the 'Getting Started with gym' https://gym.openai.com/docs/ for better understanding the framework. "
   ]
  },
  {
   "cell_type": "markdown",
   "metadata": {
    "id": "QA-998XefX85"
   },
   "source": [
    "### 2. Implement your own environment\n",
    "\n",
    "Unfortunatley, gym does **NOT** provide a multi-armed bandit environment. Therefore, we are going to implement our own environment following the framework of gym. This enviroment is a gambiling room with ten different slot machines (a 10-armed bandit problem). Similar with examples given in the lecture, the reward of each slot machine follows a normal distribution, but the average reward (mean) and variance of each action are different. Your goal is to determine the optimal action from all possible actions/machines. "
   ]
  },
  {
   "cell_type": "markdown",
   "metadata": {},
   "source": [
    "The core gym interface is **Env**, which is the unified environment interface. There is no interface for agents. The following are the Env methods you should know:\n",
    "\n",
    "- `step(self, action)`: Steps the environment by one timestep. Returns observation, reward, done, info.\n",
    "- `reset(self)`: Resets the environment to an initial state. Returns an initial observation. Each call of `reset()` should yield an environment suitable for a new episode, independent of previous episodes. Because there is no state transition in multi-armed bandit problems, this function is not used here.\n",
    "- `render(self, mode='human')`: Renders one frame of the environment. The default mode will do something human friendly, such as pop up a window. In this assignment, there is no need to create a pop up window. "
   ]
  },
  {
   "cell_type": "markdown",
   "metadata": {},
   "source": [
    "Before writing your own codes, read through the readme of github page of gym https://github.com/openai/gym. You are also recommended to read at least the codes for one simple environment and one example agent."
   ]
  },
  {
   "cell_type": "markdown",
   "metadata": {},
   "source": [
    "#### 2.1 Self-defined Slot Machine"
   ]
  },
  {
   "cell_type": "markdown",
   "metadata": {},
   "source": [
    "**Please fill in the missing codes in the function sample (1 point).**"
   ]
  },
  {
   "cell_type": "code",
   "execution_count": 4,
   "metadata": {
    "id": "sGDaa_u8fjO3"
   },
   "outputs": [],
   "source": [
    "import numpy as np\n",
    "\n",
    "class slotMachine:\n",
    "    \"\"\"\n",
    "        A slot machine contains a reward distribution that randomly generated with restricted mean and standard deviation. \n",
    "            sample function: generates a reward at each time step based on the given reward distribition\n",
    "    \"\"\"\n",
    "    def __init__(self):\n",
    "        self.mu = np.random.uniform(-5, 5)  # mean\n",
    "        self.sigma = np.random.uniform(0.5, 1)  # standard deviation\n",
    "\n",
    "    def sample(self):\n",
    "        ########## TODO: to be filled. ########## \n",
    "        return np.random.normal(self.mu, self.sigma)"
   ]
  },
  {
   "cell_type": "markdown",
   "metadata": {},
   "source": [
    "#### 2.2 Game Environment\n",
    "**Please fill in the missing codes in function step (1 point) in the environment.** "
   ]
  },
  {
   "cell_type": "code",
   "execution_count": 5,
   "metadata": {},
   "outputs": [],
   "source": [
    "from gym import spaces\n",
    "\n",
    "# The environment has to inherit the interface of gym.Env\n",
    "class GamblingRoom(gym.Env):\n",
    "    \"\"\"\n",
    "    A k-armed bandit environment: a gambling room with slot machines, allows the agents to interact with it.\n",
    "        r_machines: A list of slot machines, each gamblingRoom contains k number of slotMachines\n",
    "    \"\"\"\n",
    "    def __init__(self, k):\n",
    "        # initialize reward distribution for each action/machine\n",
    "        self.r_machines = []\n",
    "        for i in range(k):\n",
    "            # each gamblingRoom contains k number of slotMachines\n",
    "            self.r_machines.append(slotMachine())\n",
    "\n",
    "        self.num_arms = k\n",
    "        self.action_space = spaces.Discrete(self.num_arms)\n",
    "        self.observation_space = spaces.Discrete(1)\n",
    "        # for our bandit environment, the state is constant\n",
    "        self.state = 0\n",
    "        self.seed()\n",
    "    \n",
    "    # step up the environment based on the selected action,\n",
    "    # return the constant state, reward, done = false, and info \n",
    "    # for now, we do not have to worry about the DONE and INFO variables.\n",
    "    def step(self, action):\n",
    "        assert self.action_space.contains(action)\n",
    "        done = False\n",
    "        ########## TODO: to be filled. ##########   \n",
    "        samples = np.fromfunction(np.vectorize(lambda n: self.r_machines[n].sample()), (self.num_arms,), dtype=int)\n",
    "        reward = samples[action]\n",
    "        best_action = np.argmax(samples)\n",
    "        return self.state, reward, done, {'best_action': best_action}\n",
    "\n",
    "    \n",
    "    def seed(self, seed=None):\n",
    "        pass\n",
    "    \n",
    "    def reset(self):\n",
    "        pass\n",
    "\n",
    "    def render(self, mode='human', close=False):\n",
    "        pass\n",
    "\n",
    "    def close(self):\n",
    "        pass"
   ]
  },
  {
   "cell_type": "markdown",
   "metadata": {
    "id": "9QFSX4fjxrh8"
   },
   "source": [
    "### 3. Implement an agent with the epsilon greedy algorithm\n",
    "\n",
    "In this part, you are expected to implement an RL agent. To decide the action to take at each time step, this agent uses the epsilon greedy algorithm introduced in the lecture.\n",
    "\n",
    "**Please fill in the missing codes in function select_action (1.5 points) and update_parameters (1 point) in the agent.** Feel free to import the needed packages if there are any."
   ]
  },
  {
   "cell_type": "code",
   "execution_count": 6,
   "metadata": {
    "id": "NWI9R9BiybZl"
   },
   "outputs": [],
   "source": [
    "class EplisonGreedyAgent:\n",
    "    def __init__(self, k, e):\n",
    "        # set up the number of arms/actions\n",
    "        self.num_arms = k\n",
    "        # set up the value of epsilon\n",
    "        self.epsilon = e\n",
    "        # init the estimated values of all actions\n",
    "        self.Qvalues = np.zeros(k)\n",
    "        # init the numbers of time step that every action is selected\n",
    "        self.stepSize = np.zeros(k)\n",
    "\n",
    "    ##\n",
    "    # select the action to take at the current time step\n",
    "    # (for MDP, choose the action based on state; for k-armed bandit, no state given)\n",
    "    # return: the action to take\n",
    "    ##\n",
    "    def select_action(self):\n",
    "        ########## TODO: to be filled. ##########   \n",
    "        if np.random.random()>self.epsilon:\n",
    "            action = np.argmax(self.Qvalues)\n",
    "        else:\n",
    "            action = np.random.randint(self.num_arms)\n",
    "        return action\n",
    "    ##\n",
    "    # Update the Q-values of the agent based on received rewards\n",
    "    # input: action_index = the action, reward = the reward from this action\n",
    "    # return: null\n",
    "    ##\n",
    "    def update_parameters(self, action, reward):\n",
    "        ########## TODO: to be filled. ##########  \n",
    "        self.stepSize[action]+=1\n",
    "        self.Qvalues[action] = self.Qvalues[action] + (reward - self.Qvalues[action])/self.stepSize[action]\n",
    "        return\n",
    "    \n",
    "        "
   ]
  },
  {
   "cell_type": "markdown",
   "metadata": {
    "id": "me9kN1MPWEEf"
   },
   "source": [
    "### 4. Run the simulation, play with parameters and analyse results\n",
    "\n",
    "Finally, we write codes for running the simulation. \n",
    "\n",
    "In order to decrease the effect of randomness, we usually conduct multiple simulation runs and average the results. In the implementation, you may start with one run, then use the variable `num_runs` for running multiple simulations.\n",
    "\n",
    "In each run, you shall setup the `epsilon` and number of time step `num_episodes` (0.01 and 500 by default). Then, after the initlization of our agent and environment, **please fill in the missing codes (with ??? or TODO: to be filled). (2.5 points)**"
   ]
  },
  {
   "cell_type": "code",
   "execution_count": 7,
   "metadata": {},
   "outputs": [
    {
     "name": "stdout",
     "output_type": "stream",
     "text": [
      "Discrete(10)\n"
     ]
    }
   ],
   "source": [
    "num_action = 10\n",
    "num_seed = 5\n",
    "num_runs = 100  # number of simulation runs\n",
    "num_episodes = 500  # number of steps in each run\n",
    "epsilon = 0\n",
    "\n",
    "# set up the random seed\n",
    "np.random.seed(num_seed)\n",
    "\n",
    "# init the environment\n",
    "env = GamblingRoom(num_action)\n",
    "\n",
    "# delete the wrap\n",
    "env = env.unwrapped\n",
    "\n",
    "# show the action space\n",
    "print(env.action_space) \n",
    "\n",
    "rewards = np.zeros(num_episodes)\n",
    "best_actions = np.zeros(num_episodes)\n",
    "\n",
    "# run multiple simulations\n",
    "for i_run in range(num_runs):\n",
    "    ########## TODO: to be filled. ########## \n",
    "    \n",
    "    # init the epsilon-greedy RL agent \n",
    "    agent = EplisonGreedyAgent(num_action, epsilon)\n",
    "    # in each simulation run, loop the action selection\n",
    "    # save the result variables you need\n",
    "    for i_episode in range(num_episodes):\n",
    "        action = agent.select_action()\n",
    "        _, reward, __, info = env.step(action)\n",
    "        agent.update_parameters(action, reward)\n",
    "        best_action = info['best_action']\n",
    "        rewards[i_episode]+=reward\n",
    "        if action==best_action:\n",
    "            best_actions[i_episode] += 1 \n",
    "env.close()"
   ]
  },
  {
   "cell_type": "code",
   "execution_count": 8,
   "metadata": {},
   "outputs": [],
   "source": [
    "num_action = 10\n",
    "num_seed = 5\n",
    "num_runs = 100  # number of simulation runs\n",
    "num_episodes = 500  # number of steps in each run\n",
    "\n",
    "# set up the random seed\n",
    "np.random.seed(num_seed)\n",
    "\n",
    "# init the environment\n",
    "env = GamblingRoom(num_action)\n",
    "\n",
    "env = env.unwrapped\n",
    "\n",
    "epsilon = [0,0.1,0.01]\n",
    "\n",
    "def simulation(epsilon):\n",
    "    rewards = np.zeros(num_episodes)\n",
    "    best_actions = np.zeros(num_episodes)\n",
    "    # run multiple simulations\n",
    "    for i_run in range(num_runs):\n",
    "        ########## TODO: to be filled. ##########\n",
    "        \n",
    "        # init the epsilon-greedy RL agent \n",
    "        agent = EplisonGreedyAgent(num_action, epsilon)\n",
    "        # in each simulation run, loop the action selection\n",
    "        # save the result variables you need\n",
    "        for i_episode in range(num_episodes):\n",
    "            action = agent.select_action()\n",
    "            _, reward, __, info = env.step(action)\n",
    "            agent.update_parameters(action, reward)\n",
    "            best_action = info['best_action']\n",
    "            rewards[i_episode]+=reward\n",
    "            if action==best_action:\n",
    "                best_actions[i_episode] += 1  \n",
    "\n",
    "    return rewards/num_runs, best_actions/num_runs\n",
    "\n",
    "rewards_e = []\n",
    "best_actions_e = []\n",
    "\n",
    "for e in epsilon:\n",
    "    rs,bas = simulation(e)\n",
    "    rewards_e.append(rs)\n",
    "    best_actions_e.append(bas)\n",
    "    \n",
    "env.close()"
   ]
  },
  {
   "cell_type": "code",
   "execution_count": 9,
   "metadata": {},
   "outputs": [
    {
     "data": {
      "image/png": "[encoded data removed]",
      "text/plain": [
       "<Figure size 432x288 with 1 Axes>"
      ]
     },
     "metadata": {
      "needs_background": "light"
     },
     "output_type": "display_data"
    },
    {
     "data": {
      "image/png": "[encoded data removed]",
      "text/plain": [
       "<Figure size 432x288 with 1 Axes>"
      ]
     },
     "metadata": {
      "needs_background": "light"
     },
     "output_type": "display_data"
    }
   ],
   "source": [
    "import matplotlib.pyplot as plt\n",
    "\n",
    "x = np.arange(num_episodes)\n",
    "\n",
    "fig1, ax1 = plt.subplots()\n",
    "\n",
    "for i, r in enumerate(rewards_e):\n",
    "    ax1.plot(x, r, label = r'$\\epsilon$ = ' + str(epsilon[i]))\n",
    "    \n",
    "    \n",
    "ax1.set(xlabel='steps', ylabel='average reward')\n",
    "\n",
    "plt.legend()\n",
    "\n",
    "fig2, ax2 = plt.subplots()\n",
    "\n",
    "for i, b in enumerate(best_actions_e):\n",
    "    ax2.plot(x, b, label = r'$\\epsilon$ = ' + str(epsilon[i]))\n",
    "    \n",
    "ax2.set(xlabel='steps', ylabel='best action (%)')\n",
    "\n",
    "plt.legend()\n",
    "\n",
    "plt.show()"
   ]
  },
  {
   "cell_type": "markdown",
   "metadata": {
    "id": "MgJlSiCGbMBP"
   },
   "source": [
    "Now it's time to examine the performance of algorithms with different epsilon values (different exploration strategies) in multiple simulation runs. \n",
    "\n",
    "You shall play with the parameter epsilon under 2 or 3 different gambling environments (by initlizing different reward distributions for machines). **For each environment, try at least 2 different values of epsilon and identify a reasonable epsilon value that could balance the exploration and exploiation**. Instead of handing in your codes for this part, please select one environment you have tested and describe your environment and experimental settings **(1 point)**. Then, provide an explanation on how you identify the good epsilon value in this environment and why it is a good one **(1 point)**. \n",
    "\n",
    "Few instructions:\n",
    "- Your answer shall include two plots presenting compariable measures of the different epsilon settings (e.g. the average reward per step and % of optimal action). **(1 point)** \n",
    "- You shall present the average results from at least 100 simulation runs. Remember that the gambling environment CANNOT be changed over those runs used for calculating the average results. \n",
    "- You may adjust the total time steps when the learning needs more time for a cerain epsilon value, but do not over spend your time on this.    "
   ]
  },
  {
   "cell_type": "markdown",
   "metadata": {},
   "source": [
    "**Fill in your answer (at most 300 words) with accompanying plots here.** "
   ]
  },
  {
   "cell_type": "markdown",
   "metadata": {},
   "source": [
    "You are almost done! Before handing in, make sure that the codes you hand in work, and that all plots are shown. **Submit just one file per team.** Please make sure that you submit a .zip file with images."
   ]
  }
 ],
 "metadata": {
  "accelerator": "GPU",
  "colab": {
   "collapsed_sections": [],
   "name": "Lesson 1: Multi- Armed Bandit with OpenAi Gym ver 2.ipynb",
   "provenance": []
  },
  "kernelspec": {
   "display_name": "Python 3 (ipykernel)",
   "language": "python",
   "name": "python3"
  },
  "language_info": {
   "codemirror_mode": {
    "name": "ipython",
    "version": 3
   },
   "file_extension": ".py",
   "mimetype": "text/x-python",
   "name": "python",
   "nbconvert_exporter": "python",
   "pygments_lexer": "ipython3",
   "version": "3.8.12"
  }
 },
 "nbformat": 4,
 "nbformat_minor": 1
}
